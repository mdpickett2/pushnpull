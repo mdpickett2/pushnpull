{
 "cells": [
  {
   "cell_type": "code",
   "execution_count": 1,
   "metadata": {},
   "outputs": [],
   "source": [
    "import pandas as pd\n",
    "import matplotlib.pyplot as plt\n",
    "import scipy.stats as st\n",
    "import numpy as np"
   ]
  },
  {
   "cell_type": "code",
   "execution_count": 2,
   "metadata": {},
   "outputs": [
    {
     "data": {
      "text/html": [
       "<div>\n",
       "<style scoped>\n",
       "    .dataframe tbody tr th:only-of-type {\n",
       "        vertical-align: middle;\n",
       "    }\n",
       "\n",
       "    .dataframe tbody tr th {\n",
       "        vertical-align: top;\n",
       "    }\n",
       "\n",
       "    .dataframe thead th {\n",
       "        text-align: right;\n",
       "    }\n",
       "</style>\n",
       "<table border=\"1\" class=\"dataframe\">\n",
       "  <thead>\n",
       "    <tr style=\"text-align: right;\">\n",
       "      <th></th>\n",
       "      <th>Country</th>\n",
       "      <th>Population</th>\n",
       "      <th>Literacy</th>\n",
       "      <th>Schooling</th>\n",
       "      <th>Per_Cap_Inc_2017</th>\n",
       "      <th>GINI</th>\n",
       "      <th>Medical_Exp</th>\n",
       "      <th>Doctors</th>\n",
       "      <th>Hosp_Beds</th>\n",
       "      <th>Religion</th>\n",
       "      <th>Sect</th>\n",
       "      <th>Urbanization</th>\n",
       "      <th>Obseity</th>\n",
       "      <th>Infant_Mort</th>\n",
       "      <th>Mort_Under_5</th>\n",
       "      <th>Life_Exp</th>\n",
       "    </tr>\n",
       "  </thead>\n",
       "  <tbody>\n",
       "    <tr>\n",
       "      <td>0</td>\n",
       "      <td>Algeria</td>\n",
       "      <td>42972878</td>\n",
       "      <td>81.4</td>\n",
       "      <td>14</td>\n",
       "      <td>15200</td>\n",
       "      <td>27.6</td>\n",
       "      <td>6.6</td>\n",
       "      <td>1.83</td>\n",
       "      <td>1.90</td>\n",
       "      <td>Muslim</td>\n",
       "      <td>Sunni</td>\n",
       "      <td>73.7</td>\n",
       "      <td>27.4</td>\n",
       "      <td>17.6</td>\n",
       "      <td>23.50</td>\n",
       "      <td>77.5</td>\n",
       "    </tr>\n",
       "    <tr>\n",
       "      <td>1</td>\n",
       "      <td>Bolivia</td>\n",
       "      <td>11639909</td>\n",
       "      <td>92.5</td>\n",
       "      <td>14</td>\n",
       "      <td>7600</td>\n",
       "      <td>44.0</td>\n",
       "      <td>6.9</td>\n",
       "      <td>1.61</td>\n",
       "      <td>1.10</td>\n",
       "      <td>Christian</td>\n",
       "      <td>Catholic</td>\n",
       "      <td>70.1</td>\n",
       "      <td>20.2</td>\n",
       "      <td>32.2</td>\n",
       "      <td>26.80</td>\n",
       "      <td>70.4</td>\n",
       "    </tr>\n",
       "    <tr>\n",
       "      <td>2</td>\n",
       "      <td>Cambodia</td>\n",
       "      <td>16926984</td>\n",
       "      <td>80.5</td>\n",
       "      <td>11</td>\n",
       "      <td>4000</td>\n",
       "      <td>30.8</td>\n",
       "      <td>6.1</td>\n",
       "      <td>0.17</td>\n",
       "      <td>0.80</td>\n",
       "      <td>Buddhist</td>\n",
       "      <td>NaN</td>\n",
       "      <td>24.2</td>\n",
       "      <td>3.9</td>\n",
       "      <td>43.7</td>\n",
       "      <td>28.00</td>\n",
       "      <td>65.9</td>\n",
       "    </tr>\n",
       "    <tr>\n",
       "      <td>3</td>\n",
       "      <td>Eswatini</td>\n",
       "      <td>1104479</td>\n",
       "      <td>88.4</td>\n",
       "      <td>11</td>\n",
       "      <td>10100</td>\n",
       "      <td>51.5</td>\n",
       "      <td>7.7</td>\n",
       "      <td>0.08</td>\n",
       "      <td>2.10</td>\n",
       "      <td>Christian</td>\n",
       "      <td>NaN</td>\n",
       "      <td>24.2</td>\n",
       "      <td>16.5</td>\n",
       "      <td>42.8</td>\n",
       "      <td>54.40</td>\n",
       "      <td>58.6</td>\n",
       "    </tr>\n",
       "    <tr>\n",
       "      <td>4</td>\n",
       "      <td>Jordan</td>\n",
       "      <td>10820644</td>\n",
       "      <td>98.2</td>\n",
       "      <td>13</td>\n",
       "      <td>9200</td>\n",
       "      <td>33.7</td>\n",
       "      <td>5.5</td>\n",
       "      <td>2.34</td>\n",
       "      <td>1.40</td>\n",
       "      <td>Muslim</td>\n",
       "      <td>Sunni</td>\n",
       "      <td>91.4</td>\n",
       "      <td>35.5</td>\n",
       "      <td>12.8</td>\n",
       "      <td>16.20</td>\n",
       "      <td>75.5</td>\n",
       "    </tr>\n",
       "    <tr>\n",
       "      <td>5</td>\n",
       "      <td>Lithuania</td>\n",
       "      <td>2731464</td>\n",
       "      <td>99.8</td>\n",
       "      <td>16</td>\n",
       "      <td>32400</td>\n",
       "      <td>37.4</td>\n",
       "      <td>6.7</td>\n",
       "      <td>4.34</td>\n",
       "      <td>7.30</td>\n",
       "      <td>Christian</td>\n",
       "      <td>Catholic</td>\n",
       "      <td>68.0</td>\n",
       "      <td>26.3</td>\n",
       "      <td>3.8</td>\n",
       "      <td>4.00</td>\n",
       "      <td>75.5</td>\n",
       "    </tr>\n",
       "    <tr>\n",
       "      <td>6</td>\n",
       "      <td>Peru</td>\n",
       "      <td>31914989</td>\n",
       "      <td>94.4</td>\n",
       "      <td>15</td>\n",
       "      <td>13500</td>\n",
       "      <td>43.3</td>\n",
       "      <td>5.1</td>\n",
       "      <td>1.27</td>\n",
       "      <td>1.60</td>\n",
       "      <td>Christian</td>\n",
       "      <td>Catholic</td>\n",
       "      <td>78.3</td>\n",
       "      <td>19.7</td>\n",
       "      <td>16.7</td>\n",
       "      <td>14.30</td>\n",
       "      <td>74.7</td>\n",
       "    </tr>\n",
       "    <tr>\n",
       "      <td>7</td>\n",
       "      <td>Serbia</td>\n",
       "      <td>7012165</td>\n",
       "      <td>98.3</td>\n",
       "      <td>15</td>\n",
       "      <td>15100</td>\n",
       "      <td>39.6</td>\n",
       "      <td>9.1</td>\n",
       "      <td>3.13</td>\n",
       "      <td>5.70</td>\n",
       "      <td>Christian</td>\n",
       "      <td>Orthodox</td>\n",
       "      <td>56.4</td>\n",
       "      <td>21.5</td>\n",
       "      <td>5.6</td>\n",
       "      <td>5.50</td>\n",
       "      <td>76.3</td>\n",
       "    </tr>\n",
       "    <tr>\n",
       "      <td>8</td>\n",
       "      <td>Tunisia</td>\n",
       "      <td>11721177</td>\n",
       "      <td>89.6</td>\n",
       "      <td>15</td>\n",
       "      <td>11900</td>\n",
       "      <td>32.8</td>\n",
       "      <td>7.0</td>\n",
       "      <td>1.27</td>\n",
       "      <td>2.20</td>\n",
       "      <td>Muslim</td>\n",
       "      <td>Sunni</td>\n",
       "      <td>69.6</td>\n",
       "      <td>26.9</td>\n",
       "      <td>11.0</td>\n",
       "      <td>17.00</td>\n",
       "      <td>76.3</td>\n",
       "    </tr>\n",
       "    <tr>\n",
       "      <td>9</td>\n",
       "      <td>Turkey</td>\n",
       "      <td>82017514</td>\n",
       "      <td>96.2</td>\n",
       "      <td>18</td>\n",
       "      <td>27000</td>\n",
       "      <td>41.9</td>\n",
       "      <td>4.3</td>\n",
       "      <td>1.76</td>\n",
       "      <td>2.70</td>\n",
       "      <td>Muslim</td>\n",
       "      <td>Sunni</td>\n",
       "      <td>76.1</td>\n",
       "      <td>32.1</td>\n",
       "      <td>15.8</td>\n",
       "      <td>10.60</td>\n",
       "      <td>75.7</td>\n",
       "    </tr>\n",
       "    <tr>\n",
       "      <td>10</td>\n",
       "      <td>Uganda</td>\n",
       "      <td>43252966</td>\n",
       "      <td>76.5</td>\n",
       "      <td>10</td>\n",
       "      <td>2400</td>\n",
       "      <td>42.8</td>\n",
       "      <td>6.2</td>\n",
       "      <td>0.09</td>\n",
       "      <td>0.50</td>\n",
       "      <td>Christian</td>\n",
       "      <td>Protestant</td>\n",
       "      <td>25.0</td>\n",
       "      <td>5.3</td>\n",
       "      <td>32.6</td>\n",
       "      <td>46.40</td>\n",
       "      <td>68.2</td>\n",
       "    </tr>\n",
       "    <tr>\n",
       "      <td>11</td>\n",
       "      <td>United States</td>\n",
       "      <td>332639102</td>\n",
       "      <td>99.0</td>\n",
       "      <td>16</td>\n",
       "      <td>59800</td>\n",
       "      <td>41.5</td>\n",
       "      <td>17.1</td>\n",
       "      <td>2.59</td>\n",
       "      <td>2.90</td>\n",
       "      <td>Christian</td>\n",
       "      <td>Protestant</td>\n",
       "      <td>82.7</td>\n",
       "      <td>36.2</td>\n",
       "      <td>5.3</td>\n",
       "      <td>6.50</td>\n",
       "      <td>80.3</td>\n",
       "    </tr>\n",
       "    <tr>\n",
       "      <td>12</td>\n",
       "      <td>Angola</td>\n",
       "      <td>35522339</td>\n",
       "      <td>71.1</td>\n",
       "      <td>10</td>\n",
       "      <td>6800</td>\n",
       "      <td>42.7</td>\n",
       "      <td>2.9</td>\n",
       "      <td>0.21</td>\n",
       "      <td>0.80</td>\n",
       "      <td>Christian</td>\n",
       "      <td>Catholic</td>\n",
       "      <td>66.8</td>\n",
       "      <td>8.2</td>\n",
       "      <td>62.3</td>\n",
       "      <td>7.72</td>\n",
       "      <td>61.3</td>\n",
       "    </tr>\n",
       "    <tr>\n",
       "      <td>13</td>\n",
       "      <td>Bangladesh</td>\n",
       "      <td>162650853</td>\n",
       "      <td>73.9</td>\n",
       "      <td>11</td>\n",
       "      <td>4200</td>\n",
       "      <td>32.4</td>\n",
       "      <td>2.4</td>\n",
       "      <td>0.53</td>\n",
       "      <td>0.80</td>\n",
       "      <td>Muslim</td>\n",
       "      <td>NaN</td>\n",
       "      <td>38.2</td>\n",
       "      <td>3.6</td>\n",
       "      <td>28.3</td>\n",
       "      <td>30.20</td>\n",
       "      <td>74.2</td>\n",
       "    </tr>\n",
       "    <tr>\n",
       "      <td>14</td>\n",
       "      <td>Belarus</td>\n",
       "      <td>9477918</td>\n",
       "      <td>99.8</td>\n",
       "      <td>15</td>\n",
       "      <td>18900</td>\n",
       "      <td>25.4</td>\n",
       "      <td>6.3</td>\n",
       "      <td>4.08</td>\n",
       "      <td>11.00</td>\n",
       "      <td>Christian</td>\n",
       "      <td>Orthodox</td>\n",
       "      <td>79.5</td>\n",
       "      <td>24.5</td>\n",
       "      <td>3.5</td>\n",
       "      <td>3.40</td>\n",
       "      <td>73.8</td>\n",
       "    </tr>\n",
       "    <tr>\n",
       "      <td>15</td>\n",
       "      <td>Central African Republic</td>\n",
       "      <td>5990855</td>\n",
       "      <td>37.4</td>\n",
       "      <td>7</td>\n",
       "      <td>700</td>\n",
       "      <td>56.2</td>\n",
       "      <td>4.3</td>\n",
       "      <td>0.06</td>\n",
       "      <td>1.00</td>\n",
       "      <td>Christian</td>\n",
       "      <td>NaN</td>\n",
       "      <td>42.2</td>\n",
       "      <td>7.5</td>\n",
       "      <td>80.6</td>\n",
       "      <td>116.50</td>\n",
       "      <td>54.2</td>\n",
       "    </tr>\n",
       "    <tr>\n",
       "      <td>16</td>\n",
       "      <td>Colombia</td>\n",
       "      <td>49084841</td>\n",
       "      <td>95.1</td>\n",
       "      <td>15</td>\n",
       "      <td>14400</td>\n",
       "      <td>49.7</td>\n",
       "      <td>5.9</td>\n",
       "      <td>2.08</td>\n",
       "      <td>1.50</td>\n",
       "      <td>Christian</td>\n",
       "      <td>Catholic</td>\n",
       "      <td>81.4</td>\n",
       "      <td>22.3</td>\n",
       "      <td>12.3</td>\n",
       "      <td>14.20</td>\n",
       "      <td>76.6</td>\n",
       "    </tr>\n",
       "    <tr>\n",
       "      <td>17</td>\n",
       "      <td>Indonesia</td>\n",
       "      <td>267026366</td>\n",
       "      <td>95.7</td>\n",
       "      <td>13</td>\n",
       "      <td>12400</td>\n",
       "      <td>38.1</td>\n",
       "      <td>3.1</td>\n",
       "      <td>0.38</td>\n",
       "      <td>1.20</td>\n",
       "      <td>Muslim</td>\n",
       "      <td>NaN</td>\n",
       "      <td>56.6</td>\n",
       "      <td>6.9</td>\n",
       "      <td>20.4</td>\n",
       "      <td>25.00</td>\n",
       "      <td>73.7</td>\n",
       "    </tr>\n",
       "    <tr>\n",
       "      <td>18</td>\n",
       "      <td>Laos</td>\n",
       "      <td>7447396</td>\n",
       "      <td>84.7</td>\n",
       "      <td>11</td>\n",
       "      <td>7400</td>\n",
       "      <td>36.4</td>\n",
       "      <td>2.4</td>\n",
       "      <td>0.50</td>\n",
       "      <td>1.50</td>\n",
       "      <td>Buddhist</td>\n",
       "      <td>NaN</td>\n",
       "      <td>36.3</td>\n",
       "      <td>5.3</td>\n",
       "      <td>45.6</td>\n",
       "      <td>47.30</td>\n",
       "      <td>65.7</td>\n",
       "    </tr>\n",
       "    <tr>\n",
       "      <td>19</td>\n",
       "      <td>Lesotho</td>\n",
       "      <td>1969334</td>\n",
       "      <td>79.4</td>\n",
       "      <td>11</td>\n",
       "      <td>3300</td>\n",
       "      <td>54.2</td>\n",
       "      <td>8.1</td>\n",
       "      <td>0.07</td>\n",
       "      <td>1.30</td>\n",
       "      <td>Christian</td>\n",
       "      <td>Protestant</td>\n",
       "      <td>29.0</td>\n",
       "      <td>16.6</td>\n",
       "      <td>41.5</td>\n",
       "      <td>81.10</td>\n",
       "      <td>53.0</td>\n",
       "    </tr>\n",
       "    <tr>\n",
       "      <td>20</td>\n",
       "      <td>Nepal</td>\n",
       "      <td>30327877</td>\n",
       "      <td>67.9</td>\n",
       "      <td>12</td>\n",
       "      <td>2700</td>\n",
       "      <td>32.8</td>\n",
       "      <td>6.3</td>\n",
       "      <td>0.65</td>\n",
       "      <td>3.00</td>\n",
       "      <td>Hindu</td>\n",
       "      <td>NaN</td>\n",
       "      <td>20.6</td>\n",
       "      <td>4.1</td>\n",
       "      <td>25.1</td>\n",
       "      <td>32.20</td>\n",
       "      <td>71.8</td>\n",
       "    </tr>\n",
       "    <tr>\n",
       "      <td>21</td>\n",
       "      <td>Qatar</td>\n",
       "      <td>2444174</td>\n",
       "      <td>93.5</td>\n",
       "      <td>12</td>\n",
       "      <td>124100</td>\n",
       "      <td>41.1</td>\n",
       "      <td>3.1</td>\n",
       "      <td>2.78</td>\n",
       "      <td>1.20</td>\n",
       "      <td>Muslim</td>\n",
       "      <td>NaN</td>\n",
       "      <td>99.2</td>\n",
       "      <td>35.1</td>\n",
       "      <td>5.7</td>\n",
       "      <td>6.80</td>\n",
       "      <td>79.4</td>\n",
       "    </tr>\n",
       "    <tr>\n",
       "      <td>22</td>\n",
       "      <td>Ukraine</td>\n",
       "      <td>43922939</td>\n",
       "      <td>99.8</td>\n",
       "      <td>15</td>\n",
       "      <td>8800</td>\n",
       "      <td>25.0</td>\n",
       "      <td>6.7</td>\n",
       "      <td>3.01</td>\n",
       "      <td>8.80</td>\n",
       "      <td>Christian</td>\n",
       "      <td>Orthodox</td>\n",
       "      <td>69.6</td>\n",
       "      <td>24.1</td>\n",
       "      <td>7.4</td>\n",
       "      <td>8.70</td>\n",
       "      <td>72.9</td>\n",
       "    </tr>\n",
       "    <tr>\n",
       "      <td>23</td>\n",
       "      <td>Venezuela</td>\n",
       "      <td>28644603</td>\n",
       "      <td>97.1</td>\n",
       "      <td>14</td>\n",
       "      <td>12500</td>\n",
       "      <td>46.9</td>\n",
       "      <td>3.2</td>\n",
       "      <td>1.92</td>\n",
       "      <td>0.08</td>\n",
       "      <td>Christian</td>\n",
       "      <td>Catholic</td>\n",
       "      <td>88.3</td>\n",
       "      <td>25.6</td>\n",
       "      <td>27.9</td>\n",
       "      <td>24.50</td>\n",
       "      <td>71.0</td>\n",
       "    </tr>\n",
       "  </tbody>\n",
       "</table>\n",
       "</div>"
      ],
      "text/plain": [
       "                     Country  Population  Literacy  Schooling  \\\n",
       "0                    Algeria    42972878      81.4         14   \n",
       "1                    Bolivia    11639909      92.5         14   \n",
       "2                   Cambodia    16926984      80.5         11   \n",
       "3                   Eswatini     1104479      88.4         11   \n",
       "4                     Jordan    10820644      98.2         13   \n",
       "5                  Lithuania     2731464      99.8         16   \n",
       "6                       Peru    31914989      94.4         15   \n",
       "7                     Serbia     7012165      98.3         15   \n",
       "8                    Tunisia    11721177      89.6         15   \n",
       "9                     Turkey    82017514      96.2         18   \n",
       "10                    Uganda    43252966      76.5         10   \n",
       "11             United States   332639102      99.0         16   \n",
       "12                    Angola    35522339      71.1         10   \n",
       "13                Bangladesh   162650853      73.9         11   \n",
       "14                   Belarus     9477918      99.8         15   \n",
       "15  Central African Republic     5990855      37.4          7   \n",
       "16                  Colombia    49084841      95.1         15   \n",
       "17                 Indonesia   267026366      95.7         13   \n",
       "18                      Laos     7447396      84.7         11   \n",
       "19                   Lesotho     1969334      79.4         11   \n",
       "20                     Nepal    30327877      67.9         12   \n",
       "21                     Qatar     2444174      93.5         12   \n",
       "22                   Ukraine    43922939      99.8         15   \n",
       "23                 Venezuela    28644603      97.1         14   \n",
       "\n",
       "    Per_Cap_Inc_2017  GINI  Medical_Exp  Doctors  Hosp_Beds   Religion  \\\n",
       "0              15200  27.6          6.6     1.83       1.90     Muslim   \n",
       "1               7600  44.0          6.9     1.61       1.10  Christian   \n",
       "2               4000  30.8          6.1     0.17       0.80   Buddhist   \n",
       "3              10100  51.5          7.7     0.08       2.10  Christian   \n",
       "4               9200  33.7          5.5     2.34       1.40     Muslim   \n",
       "5              32400  37.4          6.7     4.34       7.30  Christian   \n",
       "6              13500  43.3          5.1     1.27       1.60  Christian   \n",
       "7              15100  39.6          9.1     3.13       5.70  Christian   \n",
       "8              11900  32.8          7.0     1.27       2.20     Muslim   \n",
       "9              27000  41.9          4.3     1.76       2.70     Muslim   \n",
       "10              2400  42.8          6.2     0.09       0.50  Christian   \n",
       "11             59800  41.5         17.1     2.59       2.90  Christian   \n",
       "12              6800  42.7          2.9     0.21       0.80  Christian   \n",
       "13              4200  32.4          2.4     0.53       0.80     Muslim   \n",
       "14             18900  25.4          6.3     4.08      11.00  Christian   \n",
       "15               700  56.2          4.3     0.06       1.00  Christian   \n",
       "16             14400  49.7          5.9     2.08       1.50  Christian   \n",
       "17             12400  38.1          3.1     0.38       1.20     Muslim   \n",
       "18              7400  36.4          2.4     0.50       1.50   Buddhist   \n",
       "19              3300  54.2          8.1     0.07       1.30  Christian   \n",
       "20              2700  32.8          6.3     0.65       3.00      Hindu   \n",
       "21            124100  41.1          3.1     2.78       1.20     Muslim   \n",
       "22              8800  25.0          6.7     3.01       8.80  Christian   \n",
       "23             12500  46.9          3.2     1.92       0.08  Christian   \n",
       "\n",
       "          Sect  Urbanization  Obseity  Infant_Mort  Mort_Under_5  Life_Exp  \n",
       "0        Sunni          73.7     27.4         17.6         23.50      77.5  \n",
       "1     Catholic          70.1     20.2         32.2         26.80      70.4  \n",
       "2          NaN          24.2      3.9         43.7         28.00      65.9  \n",
       "3          NaN          24.2     16.5         42.8         54.40      58.6  \n",
       "4        Sunni          91.4     35.5         12.8         16.20      75.5  \n",
       "5     Catholic          68.0     26.3          3.8          4.00      75.5  \n",
       "6     Catholic          78.3     19.7         16.7         14.30      74.7  \n",
       "7     Orthodox          56.4     21.5          5.6          5.50      76.3  \n",
       "8        Sunni          69.6     26.9         11.0         17.00      76.3  \n",
       "9        Sunni          76.1     32.1         15.8         10.60      75.7  \n",
       "10  Protestant          25.0      5.3         32.6         46.40      68.2  \n",
       "11  Protestant          82.7     36.2          5.3          6.50      80.3  \n",
       "12    Catholic          66.8      8.2         62.3          7.72      61.3  \n",
       "13         NaN          38.2      3.6         28.3         30.20      74.2  \n",
       "14    Orthodox          79.5     24.5          3.5          3.40      73.8  \n",
       "15         NaN          42.2      7.5         80.6        116.50      54.2  \n",
       "16    Catholic          81.4     22.3         12.3         14.20      76.6  \n",
       "17         NaN          56.6      6.9         20.4         25.00      73.7  \n",
       "18         NaN          36.3      5.3         45.6         47.30      65.7  \n",
       "19  Protestant          29.0     16.6         41.5         81.10      53.0  \n",
       "20         NaN          20.6      4.1         25.1         32.20      71.8  \n",
       "21         NaN          99.2     35.1          5.7          6.80      79.4  \n",
       "22    Orthodox          69.6     24.1          7.4          8.70      72.9  \n",
       "23    Catholic          88.3     25.6         27.9         24.50      71.0  "
      ]
     },
     "execution_count": 2,
     "metadata": {},
     "output_type": "execute_result"
    }
   ],
   "source": [
    "input_data=\"sample.csv\"\n",
    "in1_df=pd.read_csv(input_data)\n",
    "in1_df"
   ]
  },
  {
   "cell_type": "code",
   "execution_count": 3,
   "metadata": {},
   "outputs": [
    {
     "data": {
      "text/html": [
       "<div>\n",
       "<style scoped>\n",
       "    .dataframe tbody tr th:only-of-type {\n",
       "        vertical-align: middle;\n",
       "    }\n",
       "\n",
       "    .dataframe tbody tr th {\n",
       "        vertical-align: top;\n",
       "    }\n",
       "\n",
       "    .dataframe thead th {\n",
       "        text-align: right;\n",
       "    }\n",
       "</style>\n",
       "<table border=\"1\" class=\"dataframe\">\n",
       "  <thead>\n",
       "    <tr style=\"text-align: right;\">\n",
       "      <th></th>\n",
       "      <th>Country</th>\n",
       "      <th>Population</th>\n",
       "      <th>Literacy</th>\n",
       "      <th>Schooling</th>\n",
       "      <th>Per_Cap_Inc_2017</th>\n",
       "      <th>GINI</th>\n",
       "      <th>Medical_Exp</th>\n",
       "      <th>Doctors</th>\n",
       "      <th>Hosp_Beds</th>\n",
       "      <th>Religion</th>\n",
       "      <th>Sect</th>\n",
       "      <th>Urbanization</th>\n",
       "      <th>Obseity</th>\n",
       "      <th>Infant_Mort</th>\n",
       "      <th>Mort_Under_5</th>\n",
       "      <th>Life_Exp</th>\n",
       "      <th>Adj_LE</th>\n",
       "    </tr>\n",
       "  </thead>\n",
       "  <tbody>\n",
       "    <tr>\n",
       "      <td>0</td>\n",
       "      <td>Algeria</td>\n",
       "      <td>42972878</td>\n",
       "      <td>81.4</td>\n",
       "      <td>14</td>\n",
       "      <td>15200</td>\n",
       "      <td>27.6</td>\n",
       "      <td>6.6</td>\n",
       "      <td>1.83</td>\n",
       "      <td>1.9</td>\n",
       "      <td>Muslim</td>\n",
       "      <td>Sunni</td>\n",
       "      <td>73.7</td>\n",
       "      <td>27.4</td>\n",
       "      <td>17.6</td>\n",
       "      <td>23.5</td>\n",
       "      <td>77.5</td>\n",
       "      <td>79.3</td>\n",
       "    </tr>\n",
       "    <tr>\n",
       "      <td>1</td>\n",
       "      <td>Bolivia</td>\n",
       "      <td>11639909</td>\n",
       "      <td>92.5</td>\n",
       "      <td>14</td>\n",
       "      <td>7600</td>\n",
       "      <td>44.0</td>\n",
       "      <td>6.9</td>\n",
       "      <td>1.61</td>\n",
       "      <td>1.1</td>\n",
       "      <td>Christian</td>\n",
       "      <td>Catholic</td>\n",
       "      <td>70.1</td>\n",
       "      <td>20.2</td>\n",
       "      <td>32.2</td>\n",
       "      <td>26.8</td>\n",
       "      <td>70.4</td>\n",
       "      <td>72.3</td>\n",
       "    </tr>\n",
       "    <tr>\n",
       "      <td>2</td>\n",
       "      <td>Cambodia</td>\n",
       "      <td>16926984</td>\n",
       "      <td>80.5</td>\n",
       "      <td>11</td>\n",
       "      <td>4000</td>\n",
       "      <td>30.8</td>\n",
       "      <td>6.1</td>\n",
       "      <td>0.17</td>\n",
       "      <td>0.8</td>\n",
       "      <td>Buddhist</td>\n",
       "      <td>NaN</td>\n",
       "      <td>24.2</td>\n",
       "      <td>3.9</td>\n",
       "      <td>43.7</td>\n",
       "      <td>28.0</td>\n",
       "      <td>65.9</td>\n",
       "      <td>67.8</td>\n",
       "    </tr>\n",
       "    <tr>\n",
       "      <td>3</td>\n",
       "      <td>Eswatini</td>\n",
       "      <td>1104479</td>\n",
       "      <td>88.4</td>\n",
       "      <td>11</td>\n",
       "      <td>10100</td>\n",
       "      <td>51.5</td>\n",
       "      <td>7.7</td>\n",
       "      <td>0.08</td>\n",
       "      <td>2.1</td>\n",
       "      <td>Christian</td>\n",
       "      <td>NaN</td>\n",
       "      <td>24.2</td>\n",
       "      <td>16.5</td>\n",
       "      <td>42.8</td>\n",
       "      <td>54.4</td>\n",
       "      <td>58.6</td>\n",
       "      <td>61.9</td>\n",
       "    </tr>\n",
       "    <tr>\n",
       "      <td>4</td>\n",
       "      <td>Jordan</td>\n",
       "      <td>10820644</td>\n",
       "      <td>98.2</td>\n",
       "      <td>13</td>\n",
       "      <td>9200</td>\n",
       "      <td>33.7</td>\n",
       "      <td>5.5</td>\n",
       "      <td>2.34</td>\n",
       "      <td>1.4</td>\n",
       "      <td>Muslim</td>\n",
       "      <td>Sunni</td>\n",
       "      <td>91.4</td>\n",
       "      <td>35.5</td>\n",
       "      <td>12.8</td>\n",
       "      <td>16.2</td>\n",
       "      <td>75.5</td>\n",
       "      <td>76.7</td>\n",
       "    </tr>\n",
       "  </tbody>\n",
       "</table>\n",
       "</div>"
      ],
      "text/plain": [
       "    Country  Population  Literacy  Schooling  Per_Cap_Inc_2017  GINI  \\\n",
       "0   Algeria    42972878      81.4         14             15200  27.6   \n",
       "1   Bolivia    11639909      92.5         14              7600  44.0   \n",
       "2  Cambodia    16926984      80.5         11              4000  30.8   \n",
       "3  Eswatini     1104479      88.4         11             10100  51.5   \n",
       "4    Jordan    10820644      98.2         13              9200  33.7   \n",
       "\n",
       "   Medical_Exp  Doctors  Hosp_Beds   Religion      Sect  Urbanization  \\\n",
       "0          6.6     1.83        1.9     Muslim     Sunni          73.7   \n",
       "1          6.9     1.61        1.1  Christian  Catholic          70.1   \n",
       "2          6.1     0.17        0.8   Buddhist       NaN          24.2   \n",
       "3          7.7     0.08        2.1  Christian       NaN          24.2   \n",
       "4          5.5     2.34        1.4     Muslim     Sunni          91.4   \n",
       "\n",
       "   Obseity  Infant_Mort  Mort_Under_5  Life_Exp  Adj_LE  \n",
       "0     27.4         17.6          23.5      77.5    79.3  \n",
       "1     20.2         32.2          26.8      70.4    72.3  \n",
       "2      3.9         43.7          28.0      65.9    67.8  \n",
       "3     16.5         42.8          54.4      58.6    61.9  \n",
       "4     35.5         12.8          16.2      75.5    76.7  "
      ]
     },
     "execution_count": 3,
     "metadata": {},
     "output_type": "execute_result"
    }
   ],
   "source": [
    "in_df=in1_df\n",
    "m_u_5=in_df[\"Mort_Under_5\"]\n",
    "life_exp=in_df[\"Life_Exp\"]\n",
    "q5=m_u_5/1000\n",
    "adj_le=round((life_exp-q5)/(1-q5),1)\n",
    "# append adjusted life expectancy to panda\n",
    "in_df[\"Adj_LE\"]=adj_le\n",
    "in_df.head()"
   ]
  },
  {
   "cell_type": "code",
   "execution_count": 4,
   "metadata": {},
   "outputs": [
    {
     "data": {
      "text/html": [
       "<div>\n",
       "<style scoped>\n",
       "    .dataframe tbody tr th:only-of-type {\n",
       "        vertical-align: middle;\n",
       "    }\n",
       "\n",
       "    .dataframe tbody tr th {\n",
       "        vertical-align: top;\n",
       "    }\n",
       "\n",
       "    .dataframe thead th {\n",
       "        text-align: right;\n",
       "    }\n",
       "</style>\n",
       "<table border=\"1\" class=\"dataframe\">\n",
       "  <thead>\n",
       "    <tr style=\"text-align: right;\">\n",
       "      <th></th>\n",
       "      <th>Literacy</th>\n",
       "      <th>Schooling</th>\n",
       "      <th>Per_Cap_Inc_2017</th>\n",
       "      <th>GINI</th>\n",
       "      <th>Medical_Exp</th>\n",
       "      <th>Doctors</th>\n",
       "      <th>Hosp_Beds</th>\n",
       "      <th>Urbanization</th>\n",
       "      <th>Obseity</th>\n",
       "      <th>Infant_Mort</th>\n",
       "      <th>Mort_Under_5</th>\n",
       "      <th>Life_Exp</th>\n",
       "      <th>Adj_LE</th>\n",
       "    </tr>\n",
       "  </thead>\n",
       "  <tbody>\n",
       "    <tr>\n",
       "      <td>0</td>\n",
       "      <td>81.4</td>\n",
       "      <td>14</td>\n",
       "      <td>15200</td>\n",
       "      <td>27.6</td>\n",
       "      <td>6.6</td>\n",
       "      <td>1.83</td>\n",
       "      <td>1.9</td>\n",
       "      <td>73.7</td>\n",
       "      <td>27.4</td>\n",
       "      <td>17.6</td>\n",
       "      <td>23.5</td>\n",
       "      <td>77.5</td>\n",
       "      <td>79.3</td>\n",
       "    </tr>\n",
       "    <tr>\n",
       "      <td>1</td>\n",
       "      <td>92.5</td>\n",
       "      <td>14</td>\n",
       "      <td>7600</td>\n",
       "      <td>44.0</td>\n",
       "      <td>6.9</td>\n",
       "      <td>1.61</td>\n",
       "      <td>1.1</td>\n",
       "      <td>70.1</td>\n",
       "      <td>20.2</td>\n",
       "      <td>32.2</td>\n",
       "      <td>26.8</td>\n",
       "      <td>70.4</td>\n",
       "      <td>72.3</td>\n",
       "    </tr>\n",
       "    <tr>\n",
       "      <td>2</td>\n",
       "      <td>80.5</td>\n",
       "      <td>11</td>\n",
       "      <td>4000</td>\n",
       "      <td>30.8</td>\n",
       "      <td>6.1</td>\n",
       "      <td>0.17</td>\n",
       "      <td>0.8</td>\n",
       "      <td>24.2</td>\n",
       "      <td>3.9</td>\n",
       "      <td>43.7</td>\n",
       "      <td>28.0</td>\n",
       "      <td>65.9</td>\n",
       "      <td>67.8</td>\n",
       "    </tr>\n",
       "    <tr>\n",
       "      <td>3</td>\n",
       "      <td>88.4</td>\n",
       "      <td>11</td>\n",
       "      <td>10100</td>\n",
       "      <td>51.5</td>\n",
       "      <td>7.7</td>\n",
       "      <td>0.08</td>\n",
       "      <td>2.1</td>\n",
       "      <td>24.2</td>\n",
       "      <td>16.5</td>\n",
       "      <td>42.8</td>\n",
       "      <td>54.4</td>\n",
       "      <td>58.6</td>\n",
       "      <td>61.9</td>\n",
       "    </tr>\n",
       "    <tr>\n",
       "      <td>4</td>\n",
       "      <td>98.2</td>\n",
       "      <td>13</td>\n",
       "      <td>9200</td>\n",
       "      <td>33.7</td>\n",
       "      <td>5.5</td>\n",
       "      <td>2.34</td>\n",
       "      <td>1.4</td>\n",
       "      <td>91.4</td>\n",
       "      <td>35.5</td>\n",
       "      <td>12.8</td>\n",
       "      <td>16.2</td>\n",
       "      <td>75.5</td>\n",
       "      <td>76.7</td>\n",
       "    </tr>\n",
       "  </tbody>\n",
       "</table>\n",
       "</div>"
      ],
      "text/plain": [
       "   Literacy  Schooling  Per_Cap_Inc_2017  GINI  Medical_Exp  Doctors  \\\n",
       "0      81.4         14             15200  27.6          6.6     1.83   \n",
       "1      92.5         14              7600  44.0          6.9     1.61   \n",
       "2      80.5         11              4000  30.8          6.1     0.17   \n",
       "3      88.4         11             10100  51.5          7.7     0.08   \n",
       "4      98.2         13              9200  33.7          5.5     2.34   \n",
       "\n",
       "   Hosp_Beds  Urbanization  Obseity  Infant_Mort  Mort_Under_5  Life_Exp  \\\n",
       "0        1.9          73.7     27.4         17.6          23.5      77.5   \n",
       "1        1.1          70.1     20.2         32.2          26.8      70.4   \n",
       "2        0.8          24.2      3.9         43.7          28.0      65.9   \n",
       "3        2.1          24.2     16.5         42.8          54.4      58.6   \n",
       "4        1.4          91.4     35.5         12.8          16.2      75.5   \n",
       "\n",
       "   Adj_LE  \n",
       "0    79.3  \n",
       "1    72.3  \n",
       "2    67.8  \n",
       "3    61.9  \n",
       "4    76.7  "
      ]
     },
     "execution_count": 4,
     "metadata": {},
     "output_type": "execute_result"
    }
   ],
   "source": [
    "nu_df=in_df.drop([\"Country\",\"Population\",\"Religion\",\"Sect\"],axis=1)\n",
    "nu_df.head()"
   ]
  },
  {
   "cell_type": "code",
   "execution_count": 5,
   "metadata": {},
   "outputs": [
    {
     "data": {
      "text/html": [
       "<div>\n",
       "<style scoped>\n",
       "    .dataframe tbody tr th:only-of-type {\n",
       "        vertical-align: middle;\n",
       "    }\n",
       "\n",
       "    .dataframe tbody tr th {\n",
       "        vertical-align: top;\n",
       "    }\n",
       "\n",
       "    .dataframe thead th {\n",
       "        text-align: right;\n",
       "    }\n",
       "</style>\n",
       "<table border=\"1\" class=\"dataframe\">\n",
       "  <thead>\n",
       "    <tr style=\"text-align: right;\">\n",
       "      <th></th>\n",
       "      <th>Literacy</th>\n",
       "      <th>Schooling</th>\n",
       "      <th>Per_Cap_Inc_2017</th>\n",
       "      <th>GINI</th>\n",
       "      <th>Medical_Exp</th>\n",
       "      <th>Doctors</th>\n",
       "      <th>Hosp_Beds</th>\n",
       "      <th>Urbanization</th>\n",
       "      <th>Obseity</th>\n",
       "      <th>Infant_Mort</th>\n",
       "      <th>Mort_Under_5</th>\n",
       "      <th>Life_Exp</th>\n",
       "      <th>Adj_LE</th>\n",
       "    </tr>\n",
       "  </thead>\n",
       "  <tbody>\n",
       "    <tr>\n",
       "      <td>Literacy</td>\n",
       "      <td>1.000000</td>\n",
       "      <td>0.815583</td>\n",
       "      <td>0.334146</td>\n",
       "      <td>-0.307134</td>\n",
       "      <td>0.257548</td>\n",
       "      <td>0.666320</td>\n",
       "      <td>0.403137</td>\n",
       "      <td>0.578042</td>\n",
       "      <td>0.644573</td>\n",
       "      <td>-0.821858</td>\n",
       "      <td>-0.770194</td>\n",
       "      <td>0.647957</td>\n",
       "      <td>0.570305</td>\n",
       "    </tr>\n",
       "    <tr>\n",
       "      <td>Schooling</td>\n",
       "      <td>0.815583</td>\n",
       "      <td>1.000000</td>\n",
       "      <td>0.240396</td>\n",
       "      <td>-0.324831</td>\n",
       "      <td>0.353771</td>\n",
       "      <td>0.714290</td>\n",
       "      <td>0.475207</td>\n",
       "      <td>0.613227</td>\n",
       "      <td>0.699277</td>\n",
       "      <td>-0.831250</td>\n",
       "      <td>-0.743629</td>\n",
       "      <td>0.742523</td>\n",
       "      <td>0.689628</td>\n",
       "    </tr>\n",
       "    <tr>\n",
       "      <td>Per_Cap_Inc_2017</td>\n",
       "      <td>0.334146</td>\n",
       "      <td>0.240396</td>\n",
       "      <td>1.000000</td>\n",
       "      <td>0.004885</td>\n",
       "      <td>0.143048</td>\n",
       "      <td>0.452547</td>\n",
       "      <td>0.056894</td>\n",
       "      <td>0.534130</td>\n",
       "      <td>0.577559</td>\n",
       "      <td>-0.443339</td>\n",
       "      <td>-0.375574</td>\n",
       "      <td>0.467247</td>\n",
       "      <td>0.451585</td>\n",
       "    </tr>\n",
       "    <tr>\n",
       "      <td>GINI</td>\n",
       "      <td>-0.307134</td>\n",
       "      <td>-0.324831</td>\n",
       "      <td>0.004885</td>\n",
       "      <td>1.000000</td>\n",
       "      <td>0.029244</td>\n",
       "      <td>-0.387805</td>\n",
       "      <td>-0.503360</td>\n",
       "      <td>-0.129763</td>\n",
       "      <td>-0.078777</td>\n",
       "      <td>0.496424</td>\n",
       "      <td>0.570521</td>\n",
       "      <td>-0.544800</td>\n",
       "      <td>-0.510237</td>\n",
       "    </tr>\n",
       "    <tr>\n",
       "      <td>Medical_Exp</td>\n",
       "      <td>0.257548</td>\n",
       "      <td>0.353771</td>\n",
       "      <td>0.143048</td>\n",
       "      <td>0.029244</td>\n",
       "      <td>1.000000</td>\n",
       "      <td>0.287167</td>\n",
       "      <td>0.270039</td>\n",
       "      <td>0.039151</td>\n",
       "      <td>0.394185</td>\n",
       "      <td>-0.333334</td>\n",
       "      <td>-0.127026</td>\n",
       "      <td>0.178572</td>\n",
       "      <td>0.170216</td>\n",
       "    </tr>\n",
       "    <tr>\n",
       "      <td>Doctors</td>\n",
       "      <td>0.666320</td>\n",
       "      <td>0.714290</td>\n",
       "      <td>0.452547</td>\n",
       "      <td>-0.387805</td>\n",
       "      <td>0.287167</td>\n",
       "      <td>1.000000</td>\n",
       "      <td>0.738793</td>\n",
       "      <td>0.686444</td>\n",
       "      <td>0.727584</td>\n",
       "      <td>-0.780364</td>\n",
       "      <td>-0.657679</td>\n",
       "      <td>0.660009</td>\n",
       "      <td>0.607019</td>\n",
       "    </tr>\n",
       "    <tr>\n",
       "      <td>Hosp_Beds</td>\n",
       "      <td>0.403137</td>\n",
       "      <td>0.475207</td>\n",
       "      <td>0.056894</td>\n",
       "      <td>-0.503360</td>\n",
       "      <td>0.270039</td>\n",
       "      <td>0.738793</td>\n",
       "      <td>1.000000</td>\n",
       "      <td>0.187423</td>\n",
       "      <td>0.290824</td>\n",
       "      <td>-0.518386</td>\n",
       "      <td>-0.393040</td>\n",
       "      <td>0.267441</td>\n",
       "      <td>0.206246</td>\n",
       "    </tr>\n",
       "    <tr>\n",
       "      <td>Urbanization</td>\n",
       "      <td>0.578042</td>\n",
       "      <td>0.613227</td>\n",
       "      <td>0.534130</td>\n",
       "      <td>-0.129763</td>\n",
       "      <td>0.039151</td>\n",
       "      <td>0.686444</td>\n",
       "      <td>0.187423</td>\n",
       "      <td>1.000000</td>\n",
       "      <td>0.821536</td>\n",
       "      <td>-0.568363</td>\n",
       "      <td>-0.615141</td>\n",
       "      <td>0.641428</td>\n",
       "      <td>0.599498</td>\n",
       "    </tr>\n",
       "    <tr>\n",
       "      <td>Obseity</td>\n",
       "      <td>0.644573</td>\n",
       "      <td>0.699277</td>\n",
       "      <td>0.577559</td>\n",
       "      <td>-0.078777</td>\n",
       "      <td>0.394185</td>\n",
       "      <td>0.727584</td>\n",
       "      <td>0.290824</td>\n",
       "      <td>0.821536</td>\n",
       "      <td>1.000000</td>\n",
       "      <td>-0.671323</td>\n",
       "      <td>-0.499586</td>\n",
       "      <td>0.569522</td>\n",
       "      <td>0.537683</td>\n",
       "    </tr>\n",
       "    <tr>\n",
       "      <td>Infant_Mort</td>\n",
       "      <td>-0.821858</td>\n",
       "      <td>-0.831250</td>\n",
       "      <td>-0.443339</td>\n",
       "      <td>0.496424</td>\n",
       "      <td>-0.333334</td>\n",
       "      <td>-0.780364</td>\n",
       "      <td>-0.518386</td>\n",
       "      <td>-0.568363</td>\n",
       "      <td>-0.671323</td>\n",
       "      <td>1.000000</td>\n",
       "      <td>0.776432</td>\n",
       "      <td>-0.872153</td>\n",
       "      <td>-0.837615</td>\n",
       "    </tr>\n",
       "    <tr>\n",
       "      <td>Mort_Under_5</td>\n",
       "      <td>-0.770194</td>\n",
       "      <td>-0.743629</td>\n",
       "      <td>-0.375574</td>\n",
       "      <td>0.570521</td>\n",
       "      <td>-0.127026</td>\n",
       "      <td>-0.657679</td>\n",
       "      <td>-0.393040</td>\n",
       "      <td>-0.615141</td>\n",
       "      <td>-0.499586</td>\n",
       "      <td>0.776432</td>\n",
       "      <td>1.000000</td>\n",
       "      <td>-0.816480</td>\n",
       "      <td>-0.717659</td>\n",
       "    </tr>\n",
       "    <tr>\n",
       "      <td>Life_Exp</td>\n",
       "      <td>0.647957</td>\n",
       "      <td>0.742523</td>\n",
       "      <td>0.467247</td>\n",
       "      <td>-0.544800</td>\n",
       "      <td>0.178572</td>\n",
       "      <td>0.660009</td>\n",
       "      <td>0.267441</td>\n",
       "      <td>0.641428</td>\n",
       "      <td>0.569522</td>\n",
       "      <td>-0.872153</td>\n",
       "      <td>-0.816480</td>\n",
       "      <td>1.000000</td>\n",
       "      <td>0.987766</td>\n",
       "    </tr>\n",
       "    <tr>\n",
       "      <td>Adj_LE</td>\n",
       "      <td>0.570305</td>\n",
       "      <td>0.689628</td>\n",
       "      <td>0.451585</td>\n",
       "      <td>-0.510237</td>\n",
       "      <td>0.170216</td>\n",
       "      <td>0.607019</td>\n",
       "      <td>0.206246</td>\n",
       "      <td>0.599498</td>\n",
       "      <td>0.537683</td>\n",
       "      <td>-0.837615</td>\n",
       "      <td>-0.717659</td>\n",
       "      <td>0.987766</td>\n",
       "      <td>1.000000</td>\n",
       "    </tr>\n",
       "  </tbody>\n",
       "</table>\n",
       "</div>"
      ],
      "text/plain": [
       "                  Literacy  Schooling  Per_Cap_Inc_2017      GINI  \\\n",
       "Literacy          1.000000   0.815583          0.334146 -0.307134   \n",
       "Schooling         0.815583   1.000000          0.240396 -0.324831   \n",
       "Per_Cap_Inc_2017  0.334146   0.240396          1.000000  0.004885   \n",
       "GINI             -0.307134  -0.324831          0.004885  1.000000   \n",
       "Medical_Exp       0.257548   0.353771          0.143048  0.029244   \n",
       "Doctors           0.666320   0.714290          0.452547 -0.387805   \n",
       "Hosp_Beds         0.403137   0.475207          0.056894 -0.503360   \n",
       "Urbanization      0.578042   0.613227          0.534130 -0.129763   \n",
       "Obseity           0.644573   0.699277          0.577559 -0.078777   \n",
       "Infant_Mort      -0.821858  -0.831250         -0.443339  0.496424   \n",
       "Mort_Under_5     -0.770194  -0.743629         -0.375574  0.570521   \n",
       "Life_Exp          0.647957   0.742523          0.467247 -0.544800   \n",
       "Adj_LE            0.570305   0.689628          0.451585 -0.510237   \n",
       "\n",
       "                  Medical_Exp   Doctors  Hosp_Beds  Urbanization   Obseity  \\\n",
       "Literacy             0.257548  0.666320   0.403137      0.578042  0.644573   \n",
       "Schooling            0.353771  0.714290   0.475207      0.613227  0.699277   \n",
       "Per_Cap_Inc_2017     0.143048  0.452547   0.056894      0.534130  0.577559   \n",
       "GINI                 0.029244 -0.387805  -0.503360     -0.129763 -0.078777   \n",
       "Medical_Exp          1.000000  0.287167   0.270039      0.039151  0.394185   \n",
       "Doctors              0.287167  1.000000   0.738793      0.686444  0.727584   \n",
       "Hosp_Beds            0.270039  0.738793   1.000000      0.187423  0.290824   \n",
       "Urbanization         0.039151  0.686444   0.187423      1.000000  0.821536   \n",
       "Obseity              0.394185  0.727584   0.290824      0.821536  1.000000   \n",
       "Infant_Mort         -0.333334 -0.780364  -0.518386     -0.568363 -0.671323   \n",
       "Mort_Under_5        -0.127026 -0.657679  -0.393040     -0.615141 -0.499586   \n",
       "Life_Exp             0.178572  0.660009   0.267441      0.641428  0.569522   \n",
       "Adj_LE               0.170216  0.607019   0.206246      0.599498  0.537683   \n",
       "\n",
       "                  Infant_Mort  Mort_Under_5  Life_Exp    Adj_LE  \n",
       "Literacy            -0.821858     -0.770194  0.647957  0.570305  \n",
       "Schooling           -0.831250     -0.743629  0.742523  0.689628  \n",
       "Per_Cap_Inc_2017    -0.443339     -0.375574  0.467247  0.451585  \n",
       "GINI                 0.496424      0.570521 -0.544800 -0.510237  \n",
       "Medical_Exp         -0.333334     -0.127026  0.178572  0.170216  \n",
       "Doctors             -0.780364     -0.657679  0.660009  0.607019  \n",
       "Hosp_Beds           -0.518386     -0.393040  0.267441  0.206246  \n",
       "Urbanization        -0.568363     -0.615141  0.641428  0.599498  \n",
       "Obseity             -0.671323     -0.499586  0.569522  0.537683  \n",
       "Infant_Mort          1.000000      0.776432 -0.872153 -0.837615  \n",
       "Mort_Under_5         0.776432      1.000000 -0.816480 -0.717659  \n",
       "Life_Exp            -0.872153     -0.816480  1.000000  0.987766  \n",
       "Adj_LE              -0.837615     -0.717659  0.987766  1.000000  "
      ]
     },
     "execution_count": 5,
     "metadata": {},
     "output_type": "execute_result"
    }
   ],
   "source": [
    "# Correlation Matrix\n",
    "cor_mat=nu_df.corr()\n",
    "cor_mat"
   ]
  },
  {
   "cell_type": "code",
   "execution_count": 6,
   "metadata": {},
   "outputs": [
    {
     "data": {
      "image/png": "[encoded data removed]",
      "text/plain": [
       "<Figure size 432x288 with 1 Axes>"
      ]
     },
     "metadata": {},
     "output_type": "display_data"
    }
   ],
   "source": [
    "# pie plot religions by count\n",
    "\n",
    "\n",
    "y=in_df.groupby([\"Religion\"]).size()\n",
    "\n",
    "fig1, ax1=plt.subplots()\n",
    "plt.title(\"Count of Major Countries by Religion\")\n",
    "plt.pie(y,labels=y.index,wedgeprops=dict(width=.7),autopct='%2.1f%%')\n",
    "plt.show()\n"
   ]
  },
  {
   "cell_type": "code",
   "execution_count": 7,
   "metadata": {},
   "outputs": [
    {
     "data": {
      "image/png": "[encoded data removed]",
      "text/plain": [
       "<Figure size 432x288 with 1 Axes>"
      ]
     },
     "metadata": {},
     "output_type": "display_data"
    }
   ],
   "source": [
    "sun_ct=0\n",
    "shi_ct=0\n",
    "mus_ct=0\n",
    "pro_ct=0\n",
    "cat_ct=0\n",
    "ort_ct=0\n",
    "chr_ct=0\n",
    "\n",
    "for index, row in in_df.iterrows():\n",
    "    rel=in_df.iloc[index,9]\n",
    "    sect=in_df.iloc[index,10]\n",
    "    if rel==\"Muslim\":\n",
    "        if in_df.iloc[index,10]==\"Sunni\":\n",
    "            sun_ct+=1\n",
    "        elif in_df.iloc[index,10]==\"Shia\":\n",
    "            shi_ct+=1\n",
    "        else: \n",
    "            mus_ct +=1\n",
    "    elif rel==\"Christian\":\n",
    "        if in_df.iloc[index,10]==\"Protestant\":\n",
    "            pro_ct+=1\n",
    "        elif in_df.iloc[index,10]==\"Catholic\":\n",
    "            cat_ct+=1\n",
    "        elif in_df.iloc[index,10]==\"Orthodox\":\n",
    "            ort_ct+=1\n",
    "        else: \n",
    "            chr_ct +=1\n",
    "\n",
    "\n",
    "labels=\"Protestant\",\"Catholic\",\"Orthodox\",\"Not Determined\"            \n",
    "sizes=[pro_ct,cat_ct,ort_ct,chr_ct]\n",
    "explode=(0,0,0,0.1)\n",
    "\n",
    "fig1, ax1 = plt.subplots()\n",
    "ax1.pie(sizes,explode=explode,labels=labels,autopct=\"%2.1f%%\",shadow=True,startangle=90)\n",
    "plt.title(\"Proportion of Christian Countries by Sect\")\n",
    "ax1.axis('equal')\n",
    "plt.show()\n"
   ]
  },
  {
   "cell_type": "code",
   "execution_count": 8,
   "metadata": {},
   "outputs": [
    {
     "data": {
      "image/png": "[encoded data removed]",
      "text/plain": [
       "<Figure size 432x288 with 1 Axes>"
      ]
     },
     "metadata": {},
     "output_type": "display_data"
    }
   ],
   "source": [
    "labels=\"Sunni\",\"Shia\",\"Not Determined\"\n",
    "sizes=[sun_ct,shi_ct,mus_ct]\n",
    "explode=(0,0,.1)\n",
    "\n",
    "fig1, ax1 = plt.subplots()\n",
    "plt.title(\"Proportion of Muslim Countries by Sect\")\n",
    "ax1.pie(sizes,explode=explode,labels=labels,autopct=\"%2.1f%%\")\n",
    "plt.show()\n"
   ]
  },
  {
   "cell_type": "code",
   "execution_count": 28,
   "metadata": {},
   "outputs": [
    {
     "name": "stdout",
     "output_type": "stream",
     "text": [
      "Correlation : -0.8218583953936821\n",
      "Slope : -1.1239755369762274 and Intercept : 122.90973614115458\n"
     ]
    },
    {
     "data": {
      "image/png": "[encoded data removed]",
      "text/plain": [
       "<Figure size 432x288 with 1 Axes>"
      ]
     },
     "metadata": {
      "needs_background": "light"
     },
     "output_type": "display_data"
    }
   ],
   "source": [
    "plt.scatter(in_df[\"Literacy\"],in_df[\"Infant_Mort\"],color='g',marker='+')\n",
    "plt.title(\"Infant Mortality vs. Literacy\")\n",
    "plt.xlabel(\"Percent Literate over 15\")\n",
    "plt.ylabel(\"Infant Deaths per 1,000 Life Births\")\n",
    "print(f\"Correlation : {cor_mat.iloc[0,9]}\")\n",
    "slope=st.linregress(in_df[\"Literacy\"],in_df[\"Infant_Mort\"]).slope\n",
    "intercept=st.linregress(in_df[\"Literacy\"],in_df[\"Infant_Mort\"]).intercept\n",
    "print(f\"Slope : {slope} and Intercept : {intercept}\")"
   ]
  },
  {
   "cell_type": "code",
   "execution_count": 10,
   "metadata": {},
   "outputs": [
    {
     "name": "stdout",
     "output_type": "stream",
     "text": [
      "Correlation : 0.570304654853864\n"
     ]
    },
    {
     "data": {
      "image/png": "[encoded data removed]",
      "text/plain": [
       "<Figure size 432x288 with 1 Axes>"
      ]
     },
     "metadata": {
      "needs_background": "light"
     },
     "output_type": "display_data"
    }
   ],
   "source": [
    "plt.scatter(in_df[\"Literacy\"],in_df[\"Adj_LE\"],color='g',marker='+')\n",
    "plt.title(\"Adult Life Expectancy vs. Literacy\")\n",
    "print(f\"Correlation : {cor_mat.iloc[0,12]}\")"
   ]
  },
  {
   "cell_type": "code",
   "execution_count": 29,
   "metadata": {},
   "outputs": [
    {
     "name": "stdout",
     "output_type": "stream",
     "text": [
      "Correlation : -0.8312495829472519\n",
      "Slope : -6.555028571428573 and Intercept : 110.78245714285717\n"
     ]
    },
    {
     "data": {
      "image/png": "[encoded data removed]",
      "text/plain": [
       "<Figure size 432x288 with 1 Axes>"
      ]
     },
     "metadata": {
      "needs_background": "light"
     },
     "output_type": "display_data"
    }
   ],
   "source": [
    "plt.bar(in_df[\"Schooling\"],in_df[\"Infant_Mort\"])\n",
    "plt.title(\"Infant Mortality vs. Schooling\")\n",
    "plt.ylabel(\"Infant Deaths per 1,000 Life Births\")\n",
    "print(f\"Correlation : {cor_mat.iloc[1,9]}\")\n",
    "slope=st.linregress(in_df[\"Schooling\"],in_df[\"Infant_Mort\"]).slope\n",
    "intercept=st.linregress(in_df[\"Schooling\"],in_df[\"Infant_Mort\"]).intercept\n",
    "print(f\"Slope : {slope} and Intercept : {intercept}\")"
   ]
  },
  {
   "cell_type": "code",
   "execution_count": 12,
   "metadata": {},
   "outputs": [
    {
     "name": "stdout",
     "output_type": "stream",
     "text": [
      "Correlation : 0.6896284453721567\n"
     ]
    },
    {
     "data": {
      "image/png": "[encoded data removed]",
      "text/plain": [
       "<Figure size 432x288 with 1 Axes>"
      ]
     },
     "metadata": {
      "needs_background": "light"
     },
     "output_type": "display_data"
    }
   ],
   "source": [
    "plt.bar(in_df[\"Schooling\"],in_df[\"Adj_LE\"])\n",
    "plt.title(\"Adult Life Expectancy vs. Schooling\")\n",
    "plt.ylabel(\"Life Expectancy for People Alive at Age 5\")\n",
    "print(f\"Correlation : {cor_mat.iloc[1,12]}\")"
   ]
  },
  {
   "cell_type": "code",
   "execution_count": 13,
   "metadata": {},
   "outputs": [
    {
     "name": "stdout",
     "output_type": "stream",
     "text": [
      "Correlation : -0.4433391886359987\n"
     ]
    },
    {
     "data": {
      "image/png": "[encoded data removed]",
      "text/plain": [
       "<Figure size 432x288 with 1 Axes>"
      ]
     },
     "metadata": {
      "needs_background": "light"
     },
     "output_type": "display_data"
    }
   ],
   "source": [
    "plt.scatter(in_df[\"Per_Cap_Inc_2017\"],in_df[\"Infant_Mort\"],color='g',marker='+')\n",
    "plt.title(\"Infant Mortality vs. Per Capita Income\")\n",
    "plt.ylabel(\"Infant Deaths per 1,000 Life Births\")\n",
    "print(f\"Correlation : {cor_mat.iloc[2,9]}\")"
   ]
  },
  {
   "cell_type": "code",
   "execution_count": 14,
   "metadata": {},
   "outputs": [
    {
     "name": "stdout",
     "output_type": "stream",
     "text": [
      "Correlation : 0.4515846810110764\n"
     ]
    },
    {
     "data": {
      "image/png": "[encoded data removed]",
      "text/plain": [
       "<Figure size 432x288 with 1 Axes>"
      ]
     },
     "metadata": {
      "needs_background": "light"
     },
     "output_type": "display_data"
    }
   ],
   "source": [
    "plt.scatter(in_df[\"Per_Cap_Inc_2017\"],in_df[\"Adj_LE\"],color='g',marker='+')\n",
    "plt.title(\"Adult Life Expectancy vs. Per Capita Income\")\n",
    "plt.ylabel(\"Life Expectancy for People Alive at Age 5\")\n",
    "print(f\"Correlation : {cor_mat.iloc[2,12]}\")"
   ]
  },
  {
   "cell_type": "code",
   "execution_count": 15,
   "metadata": {},
   "outputs": [
    {
     "name": "stdout",
     "output_type": "stream",
     "text": [
      "Correlation : 0.4964235592484579\n"
     ]
    },
    {
     "data": {
      "image/png": "[encoded data removed]",
      "text/plain": [
       "<Figure size 432x288 with 1 Axes>"
      ]
     },
     "metadata": {
      "needs_background": "light"
     },
     "output_type": "display_data"
    }
   ],
   "source": [
    "plt.scatter(in_df[\"GINI\"],in_df[\"Infant_Mort\"],color='g',marker='+')\n",
    "plt.title(\"Infant Mortality vs. GINI Index\")\n",
    "plt.ylabel(\"Infant Deaths per 1,000 Life Births\")\n",
    "print(f\"Correlation : {cor_mat.iloc[3,9]}\")"
   ]
  },
  {
   "cell_type": "code",
   "execution_count": 16,
   "metadata": {},
   "outputs": [
    {
     "name": "stdout",
     "output_type": "stream",
     "text": [
      "Correlation : -0.5102366456661969\n"
     ]
    },
    {
     "data": {
      "image/png": "[encoded data removed]",
      "text/plain": [
       "<Figure size 432x288 with 1 Axes>"
      ]
     },
     "metadata": {
      "needs_background": "light"
     },
     "output_type": "display_data"
    }
   ],
   "source": [
    "plt.scatter(in_df[\"GINI\"],in_df[\"Adj_LE\"],color='g',marker='+')\n",
    "plt.title(\"Adult Life Expectancy vs. GINI Index\")\n",
    "plt.ylabel(\"Life Expectancy for People Alive at Age 5\")\n",
    "print(f\"Correlation : {cor_mat.iloc[3,12]}\")"
   ]
  },
  {
   "cell_type": "code",
   "execution_count": 17,
   "metadata": {},
   "outputs": [
    {
     "name": "stdout",
     "output_type": "stream",
     "text": [
      "Correlation : -0.33333438857799585\n"
     ]
    },
    {
     "data": {
      "image/png": "[encoded data removed]",
      "text/plain": [
       "<Figure size 432x288 with 1 Axes>"
      ]
     },
     "metadata": {
      "needs_background": "light"
     },
     "output_type": "display_data"
    }
   ],
   "source": [
    "plt.scatter(in_df[\"Medical_Exp\"],in_df[\"Infant_Mort\"],color='g',marker='+')\n",
    "plt.title(\"Infant Mortality vs. Medical Expenditures\")\n",
    "plt.ylabel(\"Infant Deaths per 1,000 Life Births\")\n",
    "print(f\"Correlation : {cor_mat.iloc[4,9]}\")"
   ]
  },
  {
   "cell_type": "code",
   "execution_count": 18,
   "metadata": {},
   "outputs": [
    {
     "name": "stdout",
     "output_type": "stream",
     "text": [
      "Correlation : 0.17021581140894443\n"
     ]
    },
    {
     "data": {
      "image/png": "[encoded data removed]",
      "text/plain": [
       "<Figure size 432x288 with 1 Axes>"
      ]
     },
     "metadata": {
      "needs_background": "light"
     },
     "output_type": "display_data"
    }
   ],
   "source": [
    "plt.scatter(in_df[\"Medical_Exp\"],in_df[\"Adj_LE\"],color='g',marker='+')\n",
    "plt.title(\"Adult Life Expectancy vs. Medical Expenditures\")\n",
    "plt.ylabel(\"Life Expectancy for People Alive at Age 5\")\n",
    "print(f\"Correlation : {cor_mat.iloc[4,12]}\")"
   ]
  },
  {
   "cell_type": "code",
   "execution_count": 19,
   "metadata": {},
   "outputs": [
    {
     "name": "stdout",
     "output_type": "stream",
     "text": [
      "Correlation : -0.7803639829958389\n"
     ]
    },
    {
     "data": {
      "image/png": "[encoded data removed]",
      "text/plain": [
       "<Figure size 432x288 with 1 Axes>"
      ]
     },
     "metadata": {
      "needs_background": "light"
     },
     "output_type": "display_data"
    }
   ],
   "source": [
    "plt.scatter(in_df[\"Doctors\"],in_df[\"Infant_Mort\"],color='g',marker='+')\n",
    "plt.title(\"Infant Mortality vs. Physicians per 1,000\")\n",
    "plt.ylabel(\"Infant Deaths per 1,000 Life Births\")\n",
    "print(f\"Correlation : {cor_mat.iloc[5,9]}\")"
   ]
  },
  {
   "cell_type": "code",
   "execution_count": 20,
   "metadata": {},
   "outputs": [
    {
     "name": "stdout",
     "output_type": "stream",
     "text": [
      "Correlation : 0.607018740776397\n"
     ]
    },
    {
     "data": {
      "image/png": "[encoded data removed]",
      "text/plain": [
       "<Figure size 432x288 with 1 Axes>"
      ]
     },
     "metadata": {
      "needs_background": "light"
     },
     "output_type": "display_data"
    }
   ],
   "source": [
    "plt.scatter(in_df[\"Doctors\"],in_df[\"Adj_LE\"],color='g',marker='+')\n",
    "plt.title(\"Adult Life Expectancy vs. Physicians per 1,000\")\n",
    "plt.ylabel(\"Life Expectancy for People Alive at Age 5\")\n",
    "print(f\"Correlation : {cor_mat.iloc[5,12]}\")"
   ]
  },
  {
   "cell_type": "code",
   "execution_count": 21,
   "metadata": {},
   "outputs": [
    {
     "name": "stdout",
     "output_type": "stream",
     "text": [
      "Correlation : -0.518386331740666\n"
     ]
    },
    {
     "data": {
      "image/png": "[encoded data removed]",
      "text/plain": [
       "<Figure size 432x288 with 1 Axes>"
      ]
     },
     "metadata": {
      "needs_background": "light"
     },
     "output_type": "display_data"
    }
   ],
   "source": [
    "plt.scatter(in_df[\"Hosp_Beds\"],in_df[\"Infant_Mort\"],color='g',marker='+')\n",
    "plt.title(\"Infant Mortality vs. Hospital Beds per 1,000\")\n",
    "plt.ylabel(\"Infant Deaths per 1,000 Life Births\")\n",
    "print(f\"Correlation : {cor_mat.iloc[6,9]}\")"
   ]
  },
  {
   "cell_type": "code",
   "execution_count": 22,
   "metadata": {},
   "outputs": [
    {
     "name": "stdout",
     "output_type": "stream",
     "text": [
      "Correlation : 0.20624575829338962\n"
     ]
    },
    {
     "data": {
      "image/png": "[encoded data removed]",
      "text/plain": [
       "<Figure size 432x288 with 1 Axes>"
      ]
     },
     "metadata": {
      "needs_background": "light"
     },
     "output_type": "display_data"
    }
   ],
   "source": [
    "plt.scatter(in_df[\"Hosp_Beds\"],in_df[\"Adj_LE\"],color='g',marker='+')\n",
    "plt.title(\"Adult Life Expectancy vs. Hospital Beds per 1,000\")\n",
    "plt.ylabel(\"Life Expectancy for People Alive at Age 5\")\n",
    "print(f\"Correlation : {cor_mat.iloc[6,12]}\")"
   ]
  },
  {
   "cell_type": "code",
   "execution_count": 23,
   "metadata": {},
   "outputs": [
    {
     "name": "stdout",
     "output_type": "stream",
     "text": [
      "Religion\n",
      "Buddhist     44.650000\n",
      "Christian    26.750000\n",
      "Hindu        25.100000\n",
      "Muslim       15.942857\n",
      "Name: Infant_Mort, dtype: float64\n",
      "Religion\n",
      "Buddhist      1.343503\n",
      "Christian    23.798764\n",
      "Hindu              NaN\n",
      "Muslim        7.240593\n",
      "Name: Infant_Mort, dtype: float64\n",
      "Religion\n",
      "Buddhist     68.350000\n",
      "Christian    70.957143\n",
      "Hindu        74.200000\n",
      "Muslim       77.442857\n",
      "Name: Adj_LE, dtype: float64\n",
      "Religion\n",
      "Buddhist     0.777817\n",
      "Christian    7.248099\n",
      "Hindu             NaN\n",
      "Muslim       1.593588\n",
      "Name: Adj_LE, dtype: float64\n"
     ]
    }
   ],
   "source": [
    "# group by religion and print bar chart of average infant mortality by religion\n",
    "rel_df=in_df.groupby([\"Religion\"]).mean()\n",
    "rel_std=in_df.groupby([\"Religion\"]).std()\n",
    "rel_im=rel_df[\"Infant_Mort\"]\n",
    "rel_im_std=rel_std[\"Infant_Mort\"]\n",
    "rel_al=rel_df[\"Adj_LE\"]\n",
    "rel_al_std=rel_std[\"Adj_LE\"]\n",
    "print(rel_im)\n",
    "print(rel_im_std)\n",
    "print(rel_al)\n",
    "print(rel_al_std)\n",
    "\n",
    "# once larger sample, look at box and whisker plot"
   ]
  },
  {
   "cell_type": "code",
   "execution_count": 24,
   "metadata": {},
   "outputs": [
    {
     "name": "stdout",
     "output_type": "stream",
     "text": [
      "Correlation : -0.5683633990163331\n"
     ]
    },
    {
     "data": {
      "image/png": "[encoded data removed]",
      "text/plain": [
       "<Figure size 432x288 with 1 Axes>"
      ]
     },
     "metadata": {
      "needs_background": "light"
     },
     "output_type": "display_data"
    }
   ],
   "source": [
    "plt.scatter(in_df[\"Urbanization\"],in_df[\"Infant_Mort\"],color='g',marker='+')\n",
    "plt.title(\"Infant Mortality vs. Urbanization\")\n",
    "plt.ylabel(\"Infant Deaths per 1,000 Life Births\")\n",
    "print(f\"Correlation : {cor_mat.iloc[7,9]}\")"
   ]
  },
  {
   "cell_type": "code",
   "execution_count": 25,
   "metadata": {},
   "outputs": [
    {
     "name": "stdout",
     "output_type": "stream",
     "text": [
      "Correlation : 0.5994981448600238\n"
     ]
    },
    {
     "data": {
      "image/png": "[encoded data removed]",
      "text/plain": [
       "<Figure size 432x288 with 1 Axes>"
      ]
     },
     "metadata": {
      "needs_background": "light"
     },
     "output_type": "display_data"
    }
   ],
   "source": [
    "plt.scatter(in_df[\"Urbanization\"],in_df[\"Adj_LE\"],color='g',marker='+')\n",
    "plt.title(\"Adult Life Expectancy vs. Urbanization\")\n",
    "plt.ylabel(\"Life Expectancy for People Alive at Age 5\")\n",
    "print(f\"Correlation : {cor_mat.iloc[7,12]}\")"
   ]
  },
  {
   "cell_type": "code",
   "execution_count": 26,
   "metadata": {},
   "outputs": [
    {
     "name": "stdout",
     "output_type": "stream",
     "text": [
      "Correlation : -0.6713226095229032\n"
     ]
    },
    {
     "data": {
      "image/png": "[encoded data removed]",
      "text/plain": [
       "<Figure size 432x288 with 1 Axes>"
      ]
     },
     "metadata": {
      "needs_background": "light"
     },
     "output_type": "display_data"
    }
   ],
   "source": [
    "plt.scatter(in_df[\"Obseity\"],in_df[\"Infant_Mort\"],color='g',marker='+')\n",
    "plt.title(\"Infant Mortality vs. Obesity\")\n",
    "plt.ylabel(\"Infant Deaths per 1,000 Life Births\")\n",
    "print(f\"Correlation : {cor_mat.iloc[8,9]}\")"
   ]
  },
  {
   "cell_type": "code",
   "execution_count": 27,
   "metadata": {},
   "outputs": [
    {
     "name": "stdout",
     "output_type": "stream",
     "text": [
      "Correlation : 0.5376831053155929\n"
     ]
    },
    {
     "data": {
      "image/png": "[encoded data removed]",
      "text/plain": [
       "<Figure size 432x288 with 1 Axes>"
      ]
     },
     "metadata": {
      "needs_background": "light"
     },
     "output_type": "display_data"
    }
   ],
   "source": [
    "plt.scatter(in_df[\"Obseity\"],in_df[\"Adj_LE\"],color='g',marker='+')\n",
    "plt.title(\"Adult Life Expectancy vs. Obesity\")\n",
    "plt.ylabel(\"Life Expectancy for People Alive at Age 5\")\n",
    "print(f\"Correlation : {cor_mat.iloc[8,12]}\")"
   ]
  },
  {
   "cell_type": "code",
   "execution_count": null,
   "metadata": {},
   "outputs": [],
   "source": []
  }
 ],
 "metadata": {
  "kernelspec": {
   "display_name": "Python 3",
   "language": "python",
   "name": "python3"
  },
  "language_info": {
   "codemirror_mode": {
    "name": "ipython",
    "version": 3
   },
   "file_extension": ".py",
   "mimetype": "text/x-python",
   "name": "python",
   "nbconvert_exporter": "python",
   "pygments_lexer": "ipython3",
   "version": "3.7.4"
  }
 },
 "nbformat": 4,
 "nbformat_minor": 2
}
